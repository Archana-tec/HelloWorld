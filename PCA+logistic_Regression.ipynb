{
  "nbformat": 4,
  "nbformat_minor": 0,
  "metadata": {
    "colab": {
      "provenance": [],
      "collapsed_sections": [],
      "authorship_tag": "ABX9TyOELADU5xOXLav+2pQOem6N",
      "include_colab_link": true
    },
    "kernelspec": {
      "name": "python3",
      "display_name": "Python 3"
    },
    "language_info": {
      "name": "python"
    }
  },
  "cells": [
    {
      "cell_type": "markdown",
      "metadata": {
        "id": "view-in-github",
        "colab_type": "text"
      },
      "source": [
        "<a href=\"https://colab.research.google.com/github/Archana-tec/HelloWorld/blob/master/PCA%2Blogistic_Regression.ipynb\" target=\"_parent\"><img src=\"https://colab.research.google.com/assets/colab-badge.svg\" alt=\"Open In Colab\"/></a>"
      ]
    },
    {
      "cell_type": "code",
      "source": [
        "from sklearn.datasets import fetch_openml\n",
        "from sklearn.preprocessing import StandardScaler\n",
        "from sklearn.decomposition import PCA\n",
        "from sklearn.linear_model import LogisticRegression\n",
        "from sklearn import metrics\n",
        "from sklearn.model_selection import train_test_split\n",
        "import pandas as pd\n",
        "import numpy as np"
      ],
      "metadata": {
        "id": "a_vPvxe4EmLP"
      },
      "execution_count": null,
      "outputs": []
    },
    {
      "cell_type": "code",
      "source": [
        "mnist=fetch_openml('mnist_784')"
      ],
      "metadata": {
        "id": "F5leNhB4Fk1t"
      },
      "execution_count": null,
      "outputs": []
    },
    {
      "cell_type": "code",
      "source": [
        "mnist"
      ],
      "metadata": {
        "id": "-ErHSN4cEs2T"
      },
      "execution_count": null,
      "outputs": []
    },
    {
      "cell_type": "code",
      "source": [
        "mnist.target"
      ],
      "metadata": {
        "id": "C64i-1WrHZnj",
        "colab": {
          "base_uri": "https://localhost:8080/"
        },
        "outputId": "410c69e9-0b7e-4339-f877-dd9c87c54662"
      },
      "execution_count": null,
      "outputs": [
        {
          "output_type": "execute_result",
          "data": {
            "text/plain": [
              "0        5\n",
              "1        0\n",
              "2        4\n",
              "3        1\n",
              "4        9\n",
              "        ..\n",
              "69995    2\n",
              "69996    3\n",
              "69997    4\n",
              "69998    5\n",
              "69999    6\n",
              "Name: class, Length: 70000, dtype: category\n",
              "Categories (10, object): ['0', '1', '2', '3', ..., '6', '7', '8', '9']"
            ]
          },
          "metadata": {},
          "execution_count": 32
        }
      ]
    },
    {
      "cell_type": "markdown",
      "source": [
        "Splitting Data into Training and Test Sets"
      ],
      "metadata": {
        "id": "jIpZlvZSIECP"
      }
    },
    {
      "cell_type": "code",
      "source": [
        "train_img,test_img,train_lbl,test_lbl=train_test_split(mnist.data,mnist.target,test_size=1/7.0,random_state=0)"
      ],
      "metadata": {
        "id": "uZbj_7DaHrRf"
      },
      "execution_count": null,
      "outputs": []
    },
    {
      "cell_type": "markdown",
      "source": [
        "Standardise the data"
      ],
      "metadata": {
        "id": "SoAmtPCBIl8i"
      }
    },
    {
      "cell_type": "code",
      "source": [
        "scaler=StandardScaler().fit(train_img)"
      ],
      "metadata": {
        "id": "px2NXEA5UXPH"
      },
      "execution_count": null,
      "outputs": []
    },
    {
      "cell_type": "code",
      "source": [
        "train_std=scaler.transform(train_img)\n",
        "test_std=scaler.transform(test_img)"
      ],
      "metadata": {
        "id": "eOy98U0qIhDQ"
      },
      "execution_count": null,
      "outputs": []
    },
    {
      "cell_type": "markdown",
      "source": [
        "PCA to Speed up Machine Learning Algorithms (Logistic Regression)"
      ],
      "metadata": {
        "id": "G0VAFabzJB1x"
      }
    },
    {
      "cell_type": "code",
      "source": [
        "#Only 95% variance to be kept in the data while deciding on the no of components\n",
        "pca=PCA(.95)"
      ],
      "metadata": {
        "id": "Vr_A-W7BLOHK"
      },
      "execution_count": null,
      "outputs": []
    },
    {
      "cell_type": "code",
      "source": [
        "pca=pca.fit(train_std)"
      ],
      "metadata": {
        "id": "ln3ZdSrpJAzn"
      },
      "execution_count": null,
      "outputs": []
    },
    {
      "cell_type": "code",
      "source": [
        "pca#.n_components_"
      ],
      "metadata": {
        "colab": {
          "base_uri": "https://localhost:8080/"
        },
        "id": "UEHxfc1HMA0t",
        "outputId": "08040c7d-3c83-4822-e878-0fd36cdd9715"
      },
      "execution_count": null,
      "outputs": [
        {
          "output_type": "execute_result",
          "data": {
            "text/plain": [
              "PCA(n_components=0.95)"
            ]
          },
          "metadata": {},
          "execution_count": 13
        }
      ]
    },
    {
      "cell_type": "code",
      "source": [
        "pca.explained_variance_ratio_"
      ],
      "metadata": {
        "id": "s-reKtsTMwCz"
      },
      "execution_count": null,
      "outputs": []
    },
    {
      "cell_type": "code",
      "source": [
        "train_std"
      ],
      "metadata": {
        "id": "NpU1ZklJXCjI"
      },
      "execution_count": null,
      "outputs": []
    },
    {
      "cell_type": "code",
      "source": [
        "train=pca.transform(train_std)"
      ],
      "metadata": {
        "id": "jXeFygCcZyNY"
      },
      "execution_count": null,
      "outputs": []
    },
    {
      "cell_type": "code",
      "source": [
        "test=pca.transform(test_std)"
      ],
      "metadata": {
        "id": "DHyk2u9VaDhj"
      },
      "execution_count": null,
      "outputs": []
    },
    {
      "cell_type": "code",
      "source": [
        "logr=LogisticRegression(solver=\"lbfgs\",max_iter=500)"
      ],
      "metadata": {
        "id": "gmLtXVQ5DIB_"
      },
      "execution_count": null,
      "outputs": []
    },
    {
      "cell_type": "code",
      "source": [
        "logr.fit(train_std,train_lbl)"
      ],
      "metadata": {
        "id": "mbwQZPpEEVpq"
      },
      "execution_count": null,
      "outputs": []
    },
    {
      "cell_type": "code",
      "source": [
        "logr.predict(test_std[12].reshape(1,-1))"
      ],
      "metadata": {
        "id": "TnVgzBX_H7jR",
        "colab": {
          "base_uri": "https://localhost:8080/"
        },
        "outputId": "a29daa6c-59d7-4e30-f671-134f47c8e68a"
      },
      "execution_count": null,
      "outputs": [
        {
          "output_type": "execute_result",
          "data": {
            "text/plain": [
              "array(['4'], dtype=object)"
            ]
          },
          "metadata": {},
          "execution_count": 33
        }
      ]
    },
    {
      "cell_type": "markdown",
      "source": [
        "Measuring Model Performance"
      ],
      "metadata": {
        "id": "IS244zy3gas3"
      }
    },
    {
      "cell_type": "code",
      "source": [
        "#the below error can be avoided by model.fit(x.values,y)  because x.values will have only values without headers\n",
        "score=logr.score(test_img,test_lbl)\n"
      ],
      "metadata": {
        "id": "J1yQNlsLMUjW",
        "colab": {
          "base_uri": "https://localhost:8080/"
        },
        "outputId": "9bc3dc13-4884-4bcb-e533-411208d98331"
      },
      "execution_count": null,
      "outputs": [
        {
          "output_type": "stream",
          "name": "stderr",
          "text": [
            "/usr/local/lib/python3.7/dist-packages/sklearn/base.py:444: UserWarning: X has feature names, but LogisticRegression was fitted without feature names\n",
            "  f\"X has feature names, but {self.__class__.__name__} was fitted without\"\n"
          ]
        }
      ]
    },
    {
      "cell_type": "markdown",
      "source": [],
      "metadata": {
        "id": "4U-lFVVkiKbH"
      }
    },
    {
      "cell_type": "code",
      "source": [
        "np.random.rand(3)"
      ],
      "metadata": {
        "id": "jkvV5qQLntMp",
        "outputId": "0aad3f83-790e-4afd-d927-beccf702b5e4",
        "colab": {
          "base_uri": "https://localhost:8080/"
        }
      },
      "execution_count": null,
      "outputs": [
        {
          "output_type": "execute_result",
          "data": {
            "text/plain": [
              "array([0.68809201, 0.47326929, 0.60539914])"
            ]
          },
          "metadata": {},
          "execution_count": 37
        }
      ]
    }
  ]
}